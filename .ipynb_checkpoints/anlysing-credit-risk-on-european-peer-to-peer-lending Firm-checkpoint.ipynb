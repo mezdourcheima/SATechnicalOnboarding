{
 "cells": [
  {
   "cell_type": "code",
   "execution_count": 1,
   "metadata": {
    "_cell_guid": "b1076dfc-b9ad-4769-8c92-a6c4dae69d19",
    "_uuid": "8f2839f25d086af736a60e9eeb907d3b93b6e0e5",
    "execution": {
     "iopub.execute_input": "2022-10-20T21:38:11.113700Z",
     "iopub.status.busy": "2022-10-20T21:38:11.113118Z",
     "iopub.status.idle": "2022-10-20T21:38:11.156538Z",
     "shell.execute_reply": "2022-10-20T21:38:11.155050Z",
     "shell.execute_reply.started": "2022-10-20T21:38:11.113591Z"
    }
   },
   "outputs": [],
   "source": [
    "import numpy as np # linear algebra\n",
    "import pandas as pd # data processing, CSV file I/O (e.g. pd.read_csv)\n",
    "\n",
    "import os\n",
    "for dirname, _, filenames in os.walk('/kaggle/input'):\n",
    "    for filename in filenames:\n",
    "        print(os.path.join(dirname, filename))"
   ]
  },
  {
   "cell_type": "code",
   "execution_count": 2,
   "metadata": {
    "execution": {
     "iopub.execute_input": "2022-10-20T21:38:11.159452Z",
     "iopub.status.busy": "2022-10-20T21:38:11.158935Z",
     "iopub.status.idle": "2022-10-20T21:38:12.224131Z",
     "shell.execute_reply": "2022-10-20T21:38:12.222872Z",
     "shell.execute_reply.started": "2022-10-20T21:38:11.159402Z"
    }
   },
   "outputs": [],
   "source": [
    "# 'Matplotlib' is a data visualization library for 2D and 3D plots, built on numpy\n",
    "from matplotlib import pyplot as plt\n",
    "%matplotlib inline\n",
    "# 'Seaborn' is based on matplotlib; used for plotting statistical graphics\n",
    "import seaborn as sns\n",
    "# to suppress warnings\n",
    "import warnings\n",
    "warnings.filterwarnings(\"ignore\") "
   ]
  },
  {
   "cell_type": "code",
   "execution_count": 12,
   "metadata": {
    "execution": {
     "iopub.execute_input": "2022-10-20T21:38:12.226370Z",
     "iopub.status.busy": "2022-10-20T21:38:12.225977Z",
     "iopub.status.idle": "2022-10-20T21:38:16.376712Z",
     "shell.execute_reply": "2022-10-20T21:38:16.375235Z",
     "shell.execute_reply.started": "2022-10-20T21:38:12.226334Z"
    }
   },
   "outputs": [],
   "source": [
    "Bondora = pd.read_csv(\"../input/bondora-raw-dataset/Bondora_raw.csv\", index_col=\"LoanNumber\")"
   ]
  },
  {
   "cell_type": "code",
   "execution_count": null,
   "metadata": {
    "execution": {
     "iopub.execute_input": "2022-10-20T21:38:16.379633Z",
     "iopub.status.busy": "2022-10-20T21:38:16.379112Z",
     "iopub.status.idle": "2022-10-20T21:38:16.420345Z",
     "shell.execute_reply": "2022-10-20T21:38:16.419218Z",
     "shell.execute_reply.started": "2022-10-20T21:38:16.379586Z"
    }
   },
   "outputs": [],
   "source": [
    "Bondora.head()"
   ]
  },
  {
   "cell_type": "code",
   "execution_count": null,
   "metadata": {
    "execution": {
     "iopub.execute_input": "2022-10-20T21:38:16.421878Z",
     "iopub.status.busy": "2022-10-20T21:38:16.421519Z",
     "iopub.status.idle": "2022-10-20T21:38:16.430171Z",
     "shell.execute_reply": "2022-10-20T21:38:16.428754Z",
     "shell.execute_reply.started": "2022-10-20T21:38:16.421843Z"
    }
   },
   "outputs": [],
   "source": [
    "Bondora.shape"
   ]
  },
  {
   "cell_type": "code",
   "execution_count": null,
   "metadata": {
    "execution": {
     "iopub.execute_input": "2022-10-20T21:38:16.433487Z",
     "iopub.status.busy": "2022-10-20T21:38:16.433042Z",
     "iopub.status.idle": "2022-10-20T21:38:16.457585Z",
     "shell.execute_reply": "2022-10-20T21:38:16.456212Z",
     "shell.execute_reply.started": "2022-10-20T21:38:16.433450Z"
    }
   },
   "outputs": [],
   "source": [
    "Bondora.info()"
   ]
  },
  {
   "cell_type": "code",
   "execution_count": null,
   "metadata": {
    "execution": {
     "iopub.execute_input": "2022-10-20T21:38:16.459464Z",
     "iopub.status.busy": "2022-10-20T21:38:16.459097Z",
     "iopub.status.idle": "2022-10-20T21:38:16.472687Z",
     "shell.execute_reply": "2022-10-20T21:38:16.471566Z",
     "shell.execute_reply.started": "2022-10-20T21:38:16.459431Z"
    }
   },
   "outputs": [],
   "source": [
    "list(Bondora.dtypes)"
   ]
  },
  {
   "cell_type": "code",
   "execution_count": null,
   "metadata": {
    "execution": {
     "iopub.execute_input": "2022-10-20T21:38:16.475509Z",
     "iopub.status.busy": "2022-10-20T21:38:16.474521Z",
     "iopub.status.idle": "2022-10-20T21:38:17.090989Z",
     "shell.execute_reply": "2022-10-20T21:38:17.089973Z",
     "shell.execute_reply.started": "2022-10-20T21:38:16.475472Z"
    }
   },
   "outputs": [],
   "source": [
    "# Summary Statistics for Numerical data:\n",
    "\n",
    "Bondora.describe()"
   ]
  },
  {
   "cell_type": "code",
   "execution_count": null,
   "metadata": {
    "execution": {
     "iopub.execute_input": "2022-10-20T21:38:17.093957Z",
     "iopub.status.busy": "2022-10-20T21:38:17.093483Z",
     "iopub.status.idle": "2022-10-20T21:38:18.227429Z",
     "shell.execute_reply": "2022-10-20T21:38:18.226059Z",
     "shell.execute_reply.started": "2022-10-20T21:38:17.093910Z"
    }
   },
   "outputs": [],
   "source": [
    "# Summary Statistics for Categorical data:\n",
    "\n",
    "Bondora.describe(exclude=[np.number])"
   ]
  },
  {
   "cell_type": "markdown",
   "metadata": {},
   "source": [
    "### Missing Values"
   ]
  },
  {
   "cell_type": "code",
   "execution_count": null,
   "metadata": {
    "execution": {
     "iopub.execute_input": "2022-10-20T21:38:18.229321Z",
     "iopub.status.busy": "2022-10-20T21:38:18.228906Z",
     "iopub.status.idle": "2022-10-20T21:38:18.468172Z",
     "shell.execute_reply": "2022-10-20T21:38:18.466966Z",
     "shell.execute_reply.started": "2022-10-20T21:38:18.229283Z"
    }
   },
   "outputs": [],
   "source": [
    "Bondora.isna().sum()"
   ]
  },
  {
   "cell_type": "code",
   "execution_count": null,
   "metadata": {
    "execution": {
     "iopub.execute_input": "2022-10-20T21:38:18.470026Z",
     "iopub.status.busy": "2022-10-20T21:38:18.469664Z",
     "iopub.status.idle": "2022-10-20T21:38:18.735052Z",
     "shell.execute_reply": "2022-10-20T21:38:18.733680Z",
     "shell.execute_reply.started": "2022-10-20T21:38:18.469993Z"
    }
   },
   "outputs": [],
   "source": [
    "Bondora1 = Bondora.dropna(axis=1)"
   ]
  },
  {
   "cell_type": "code",
   "execution_count": null,
   "metadata": {
    "execution": {
     "iopub.execute_input": "2022-10-20T21:38:18.739280Z",
     "iopub.status.busy": "2022-10-20T21:38:18.738843Z",
     "iopub.status.idle": "2022-10-20T21:38:18.858691Z",
     "shell.execute_reply": "2022-10-20T21:38:18.857220Z",
     "shell.execute_reply.started": "2022-10-20T21:38:18.739244Z"
    }
   },
   "outputs": [],
   "source": [
    "Bondora1"
   ]
  },
  {
   "cell_type": "code",
   "execution_count": null,
   "metadata": {
    "execution": {
     "iopub.execute_input": "2022-10-20T21:38:18.861485Z",
     "iopub.status.busy": "2022-10-20T21:38:18.860376Z",
     "iopub.status.idle": "2022-10-20T21:38:19.113699Z",
     "shell.execute_reply": "2022-10-20T21:38:19.112415Z",
     "shell.execute_reply.started": "2022-10-20T21:38:18.861432Z"
    }
   },
   "outputs": [],
   "source": [
    "print(Bondora1.describe().transpose())"
   ]
  },
  {
   "cell_type": "code",
   "execution_count": 13,
   "metadata": {
    "execution": {
     "iopub.execute_input": "2022-10-20T21:38:19.115351Z",
     "iopub.status.busy": "2022-10-20T21:38:19.115001Z",
     "iopub.status.idle": "2022-10-20T21:38:19.121314Z",
     "shell.execute_reply": "2022-10-20T21:38:19.120424Z",
     "shell.execute_reply.started": "2022-10-20T21:38:19.115318Z"
    }
   },
   "outputs": [],
   "source": [
    "Bondora1.shape"
   ]
  },
  {
   "cell_type": "code",
   "execution_count": 16,
   "metadata": {
    "execution": {
     "iopub.execute_input": "2022-10-20T21:38:19.123413Z",
     "iopub.status.busy": "2022-10-20T21:38:19.122517Z",
     "iopub.status.idle": "2022-10-20T21:38:19.136606Z",
     "shell.execute_reply": "2022-10-20T21:38:19.135436Z",
     "shell.execute_reply.started": "2022-10-20T21:38:19.123378Z"
    }
   },
   "outputs": [],
   "source": [
    "Bondora1.dtypes"
   ]
  },
  {
   "cell_type": "code",
   "execution_count": 17,
   "metadata": {
    "execution": {
     "iopub.execute_input": "2022-10-20T21:38:19.139189Z",
     "iopub.status.busy": "2022-10-20T21:38:19.138300Z",
     "iopub.status.idle": "2022-10-20T21:38:19.147182Z",
     "shell.execute_reply": "2022-10-20T21:38:19.145532Z",
     "shell.execute_reply.started": "2022-10-20T21:38:19.139118Z"
    }
   },
   "outputs": [],
   "source": [
    "names = Bondora1.columns"
   ]
  },
  {
   "cell_type": "markdown",
   "metadata": {},
   "source": [
    "### Object and bool data types"
   ]
  },
  {
   "cell_type": "code",
   "execution_count": 7,
   "metadata": {
    "execution": {
     "iopub.execute_input": "2022-10-20T21:38:19.150483Z",
     "iopub.status.busy": "2022-10-20T21:38:19.149228Z",
     "iopub.status.idle": "2022-10-20T21:38:19.205829Z",
     "shell.execute_reply": "2022-10-20T21:38:19.204369Z",
     "shell.execute_reply.started": "2022-10-20T21:38:19.150367Z"
    }
   },
   "outputs": [
    {
     "ename": "NameError",
     "evalue": "name 'Bondora1' is not defined",
     "output_type": "error",
     "traceback": [
      "\u001b[0;31m---------------------------------------------------------------------------\u001b[0m",
      "\u001b[0;31mNameError\u001b[0m                                 Traceback (most recent call last)",
      "\u001b[0;32m/var/folders/rr/62tz31v139gdkk0h36fmvq240000gn/T/ipykernel_4312/345208544.py\u001b[0m in \u001b[0;36m<module>\u001b[0;34m\u001b[0m\n\u001b[0;32m----> 1\u001b[0;31m \u001b[0mcategorical_data\u001b[0m\u001b[0;34m=\u001b[0m \u001b[0mBondora1\u001b[0m\u001b[0;34m.\u001b[0m\u001b[0mselect_dtypes\u001b[0m\u001b[0;34m(\u001b[0m\u001b[0;34m'object'\u001b[0m\u001b[0;34m)\u001b[0m\u001b[0;34m\u001b[0m\u001b[0;34m\u001b[0m\u001b[0m\n\u001b[0m\u001b[1;32m      2\u001b[0m \u001b[0mBondora1\u001b[0m \u001b[0;34m=\u001b[0m \u001b[0mBondora1\u001b[0m\u001b[0;34m.\u001b[0m\u001b[0mdrop\u001b[0m\u001b[0;34m(\u001b[0m\u001b[0mcategorical_data\u001b[0m\u001b[0;34m.\u001b[0m\u001b[0mcolumns\u001b[0m\u001b[0;34m,\u001b[0m \u001b[0maxis\u001b[0m\u001b[0;34m=\u001b[0m\u001b[0;36m1\u001b[0m\u001b[0;34m)\u001b[0m\u001b[0;34m\u001b[0m\u001b[0;34m\u001b[0m\u001b[0m\n\u001b[1;32m      3\u001b[0m \u001b[0mbooleen_data\u001b[0m\u001b[0;34m=\u001b[0m \u001b[0mBondora1\u001b[0m\u001b[0;34m.\u001b[0m\u001b[0mselect_dtypes\u001b[0m\u001b[0;34m(\u001b[0m\u001b[0;34m'bool'\u001b[0m\u001b[0;34m)\u001b[0m\u001b[0;34m\u001b[0m\u001b[0;34m\u001b[0m\u001b[0m\n\u001b[1;32m      4\u001b[0m \u001b[0mBondora1\u001b[0m \u001b[0;34m=\u001b[0m \u001b[0mBondora1\u001b[0m\u001b[0;34m.\u001b[0m\u001b[0mdrop\u001b[0m\u001b[0;34m(\u001b[0m\u001b[0mbooleen_data\u001b[0m\u001b[0;34m.\u001b[0m\u001b[0mcolumns\u001b[0m\u001b[0;34m,\u001b[0m \u001b[0maxis\u001b[0m\u001b[0;34m=\u001b[0m\u001b[0;36m1\u001b[0m\u001b[0;34m)\u001b[0m\u001b[0;34m\u001b[0m\u001b[0;34m\u001b[0m\u001b[0m\n",
      "\u001b[0;31mNameError\u001b[0m: name 'Bondora1' is not defined"
     ]
    }
   ],
   "source": [
    "categorical_data= Bondora1.select_dtypes('object') \n",
    "Bondora1 = Bondora1.drop(categorical_data.columns, axis=1)\n",
    "booleen_data= Bondora1.select_dtypes('bool')\n",
    "Bondora1 = Bondora1.drop(booleen_data.columns, axis=1)"
   ]
  },
  {
   "cell_type": "code",
   "execution_count": 8,
   "metadata": {
    "execution": {
     "iopub.execute_input": "2022-10-20T21:38:19.208166Z",
     "iopub.status.busy": "2022-10-20T21:38:19.207587Z",
     "iopub.status.idle": "2022-10-20T21:38:19.232195Z",
     "shell.execute_reply": "2022-10-20T21:38:19.230997Z",
     "shell.execute_reply.started": "2022-10-20T21:38:19.208105Z"
    }
   },
   "outputs": [
    {
     "ename": "NameError",
     "evalue": "name 'categorical_data' is not defined",
     "output_type": "error",
     "traceback": [
      "\u001b[0;31m---------------------------------------------------------------------------\u001b[0m",
      "\u001b[0;31mNameError\u001b[0m                                 Traceback (most recent call last)",
      "\u001b[0;32m/var/folders/rr/62tz31v139gdkk0h36fmvq240000gn/T/ipykernel_4312/1699294518.py\u001b[0m in \u001b[0;36m<module>\u001b[0;34m\u001b[0m\n\u001b[0;32m----> 1\u001b[0;31m \u001b[0mcategorical_data\u001b[0m\u001b[0;34m\u001b[0m\u001b[0;34m\u001b[0m\u001b[0m\n\u001b[0m",
      "\u001b[0;31mNameError\u001b[0m: name 'categorical_data' is not defined"
     ]
    }
   ],
   "source": [
    "categorical_data"
   ]
  },
  {
   "cell_type": "code",
   "execution_count": 9,
   "metadata": {
    "execution": {
     "iopub.execute_input": "2022-10-20T21:38:19.234587Z",
     "iopub.status.busy": "2022-10-20T21:38:19.234122Z",
     "iopub.status.idle": "2022-10-20T21:38:19.251741Z",
     "shell.execute_reply": "2022-10-20T21:38:19.250530Z",
     "shell.execute_reply.started": "2022-10-20T21:38:19.234551Z"
    }
   },
   "outputs": [
    {
     "ename": "NameError",
     "evalue": "name 'booleen_data' is not defined",
     "output_type": "error",
     "traceback": [
      "\u001b[0;31m---------------------------------------------------------------------------\u001b[0m",
      "\u001b[0;31mNameError\u001b[0m                                 Traceback (most recent call last)",
      "\u001b[0;32m/var/folders/rr/62tz31v139gdkk0h36fmvq240000gn/T/ipykernel_4312/634186232.py\u001b[0m in \u001b[0;36m<module>\u001b[0;34m\u001b[0m\n\u001b[0;32m----> 1\u001b[0;31m \u001b[0mbooleen_data\u001b[0m\u001b[0;34m\u001b[0m\u001b[0;34m\u001b[0m\u001b[0m\n\u001b[0m",
      "\u001b[0;31mNameError\u001b[0m: name 'booleen_data' is not defined"
     ]
    }
   ],
   "source": [
    "booleen_data"
   ]
  },
  {
   "cell_type": "code",
   "execution_count": 11,
   "metadata": {
    "execution": {
     "iopub.execute_input": "2022-10-20T21:38:19.264185Z",
     "iopub.status.busy": "2022-10-20T21:38:19.263626Z",
     "iopub.status.idle": "2022-10-20T21:38:19.272642Z",
     "shell.execute_reply": "2022-10-20T21:38:19.271448Z",
     "shell.execute_reply.started": "2022-10-20T21:38:19.264045Z"
    }
   },
   "outputs": [],
   "source": [
    "#Bondora1.dtypes"
   ]
  },
  {
   "cell_type": "code",
   "execution_count": 22,
   "metadata": {
    "execution": {
     "iopub.execute_input": "2022-10-20T21:38:19.275109Z",
     "iopub.status.busy": "2022-10-20T21:38:19.273902Z",
     "iopub.status.idle": "2022-10-20T21:38:19.285492Z",
     "shell.execute_reply": "2022-10-20T21:38:19.284211Z",
     "shell.execute_reply.started": "2022-10-20T21:38:19.275074Z"
    }
   },
   "outputs": [],
   "source": [
    "features_categorical_data= list(categorical_data.columns)\n",
    "features_booleen_data= list(booleen_data.columns)"
   ]
  },
  {
   "cell_type": "code",
   "execution_count": 23,
   "metadata": {
    "execution": {
     "iopub.execute_input": "2022-10-20T21:38:19.288196Z",
     "iopub.status.busy": "2022-10-20T21:38:19.286997Z",
     "iopub.status.idle": "2022-10-20T21:38:19.385907Z",
     "shell.execute_reply": "2022-10-20T21:38:19.384765Z",
     "shell.execute_reply.started": "2022-10-20T21:38:19.288128Z"
    }
   },
   "outputs": [],
   "source": [
    "categorical_data =categorical_data.fillna(\"unknown\")"
   ]
  },
  {
   "cell_type": "code",
   "execution_count": 24,
   "metadata": {
    "execution": {
     "iopub.execute_input": "2022-10-20T21:38:19.387984Z",
     "iopub.status.busy": "2022-10-20T21:38:19.387451Z",
     "iopub.status.idle": "2022-10-20T21:38:19.507524Z",
     "shell.execute_reply": "2022-10-20T21:38:19.506161Z",
     "shell.execute_reply.started": "2022-10-20T21:38:19.387940Z"
    }
   },
   "outputs": [],
   "source": [
    "date_type= categorical_data[\"BiddingStartedOn\"].astype('datetime64[ns]') \n",
    "categorical_data= categorical_data.drop(['BiddingStartedOn'],axis=1)"
   ]
  },
  {
   "cell_type": "code",
   "execution_count": 26,
   "metadata": {
    "execution": {
     "iopub.execute_input": "2022-10-20T21:38:19.517580Z",
     "iopub.status.busy": "2022-10-20T21:38:19.517209Z",
     "iopub.status.idle": "2022-10-20T21:38:19.531672Z",
     "shell.execute_reply": "2022-10-20T21:38:19.530390Z",
     "shell.execute_reply.started": "2022-10-20T21:38:19.517547Z"
    }
   },
   "outputs": [],
   "source": [
    "#Bondora1[\"Status\"] = Bondora1[\"Status\"].astype('category')"
   ]
  },
  {
   "cell_type": "code",
   "execution_count": 27,
   "metadata": {
    "execution": {
     "iopub.execute_input": "2022-10-20T21:38:19.533543Z",
     "iopub.status.busy": "2022-10-20T21:38:19.533107Z",
     "iopub.status.idle": "2022-10-20T21:38:19.543570Z",
     "shell.execute_reply": "2022-10-20T21:38:19.542362Z",
     "shell.execute_reply.started": "2022-10-20T21:38:19.533507Z"
    }
   },
   "outputs": [],
   "source": [
    "#Bondora1.dtypes"
   ]
  },
  {
   "cell_type": "code",
   "execution_count": 29,
   "metadata": {
    "execution": {
     "iopub.execute_input": "2022-10-20T21:38:19.558311Z",
     "iopub.status.busy": "2022-10-20T21:38:19.557856Z",
     "iopub.status.idle": "2022-10-20T21:38:19.704928Z",
     "shell.execute_reply": "2022-10-20T21:38:19.703864Z",
     "shell.execute_reply.started": "2022-10-20T21:38:19.558256Z"
    }
   },
   "outputs": [],
   "source": [
    "from sklearn.preprocessing import LabelEncoder"
   ]
  },
  {
   "cell_type": "code",
   "execution_count": 30,
   "metadata": {
    "execution": {
     "iopub.execute_input": "2022-10-20T21:38:19.710990Z",
     "iopub.status.busy": "2022-10-20T21:38:19.710415Z",
     "iopub.status.idle": "2022-10-20T21:38:19.919261Z",
     "shell.execute_reply": "2022-10-20T21:38:19.918251Z",
     "shell.execute_reply.started": "2022-10-20T21:38:19.710945Z"
    }
   },
   "outputs": [],
   "source": [
    "from sklearn.model_selection import GridSearchCV\n",
    "from sklearn.tree import DecisionTreeClassifier\n",
    "from sklearn.model_selection import train_test_split\n",
    "from sklearn import metrics"
   ]
  },
  {
   "cell_type": "code",
   "execution_count": 31,
   "metadata": {
    "execution": {
     "iopub.execute_input": "2022-10-20T21:38:19.921065Z",
     "iopub.status.busy": "2022-10-20T21:38:19.920532Z",
     "iopub.status.idle": "2022-10-20T21:38:19.962723Z",
     "shell.execute_reply": "2022-10-20T21:38:19.961552Z",
     "shell.execute_reply.started": "2022-10-20T21:38:19.921033Z"
    }
   },
   "outputs": [],
   "source": [
    "categorical_a = np.array(categorical_data).reshape(-1) \n",
    "booleen_a = np.array(booleen_data).reshape(-1)"
   ]
  },
  {
   "cell_type": "code",
   "execution_count": 32,
   "metadata": {
    "execution": {
     "iopub.execute_input": "2022-10-20T21:38:19.964945Z",
     "iopub.status.busy": "2022-10-20T21:38:19.964047Z",
     "iopub.status.idle": "2022-10-20T21:38:19.972024Z",
     "shell.execute_reply": "2022-10-20T21:38:19.970420Z",
     "shell.execute_reply.started": "2022-10-20T21:38:19.964904Z"
    }
   },
   "outputs": [],
   "source": [
    "Encoder_1= LabelEncoder()\n",
    "Encoder_2= LabelEncoder()"
   ]
  },
  {
   "cell_type": "code",
   "execution_count": 33,
   "metadata": {
    "execution": {
     "iopub.execute_input": "2022-10-20T21:38:19.974432Z",
     "iopub.status.busy": "2022-10-20T21:38:19.973904Z",
     "iopub.status.idle": "2022-10-20T21:38:22.666068Z",
     "shell.execute_reply": "2022-10-20T21:38:22.664605Z",
     "shell.execute_reply.started": "2022-10-20T21:38:19.974388Z"
    }
   },
   "outputs": [],
   "source": [
    "categorical_enc= Encoder_1.fit_transform(categorical_a)\n",
    "booleen_enc= Encoder_2.fit_transform(booleen_a)"
   ]
  },
  {
   "cell_type": "code",
   "execution_count": 34,
   "metadata": {
    "execution": {
     "iopub.execute_input": "2022-10-20T21:38:22.667970Z",
     "iopub.status.busy": "2022-10-20T21:38:22.667549Z",
     "iopub.status.idle": "2022-10-20T21:38:22.675782Z",
     "shell.execute_reply": "2022-10-20T21:38:22.674544Z",
     "shell.execute_reply.started": "2022-10-20T21:38:22.667932Z"
    }
   },
   "outputs": [
    {
     "data": {
      "text/plain": [
       "(1614348,)"
      ]
     },
     "execution_count": 34,
     "metadata": {},
     "output_type": "execute_result"
    }
   ],
   "source": [
    "categorical_enc.shape"
   ]
  },
  {
   "cell_type": "code",
   "execution_count": 35,
   "metadata": {
    "execution": {
     "iopub.execute_input": "2022-10-20T21:38:22.678076Z",
     "iopub.status.busy": "2022-10-20T21:38:22.677669Z",
     "iopub.status.idle": "2022-10-20T21:38:22.690054Z",
     "shell.execute_reply": "2022-10-20T21:38:22.688797Z",
     "shell.execute_reply.started": "2022-10-20T21:38:22.678037Z"
    }
   },
   "outputs": [
    {
     "data": {
      "text/plain": [
       "(403587,)"
      ]
     },
     "execution_count": 35,
     "metadata": {},
     "output_type": "execute_result"
    }
   ],
   "source": [
    "booleen_enc.shape"
   ]
  },
  {
   "cell_type": "code",
   "execution_count": 36,
   "metadata": {
    "execution": {
     "iopub.execute_input": "2022-10-20T21:38:22.692307Z",
     "iopub.status.busy": "2022-10-20T21:38:22.691423Z",
     "iopub.status.idle": "2022-10-20T21:38:22.701491Z",
     "shell.execute_reply": "2022-10-20T21:38:22.700351Z",
     "shell.execute_reply.started": "2022-10-20T21:38:22.692272Z"
    }
   },
   "outputs": [],
   "source": [
    "categorical_enc = pd.DataFrame(categorical_enc.reshape(1614348,int(categorical_enc.shape[0]/1614348)))\n",
    "booleen_enc = pd.DataFrame(booleen_enc.reshape(403587 ,int(booleen_enc.shape[0]/403587 )))"
   ]
  },
  {
   "cell_type": "code",
   "execution_count": 37,
   "metadata": {
    "execution": {
     "iopub.execute_input": "2022-10-20T21:38:22.703618Z",
     "iopub.status.busy": "2022-10-20T21:38:22.703255Z",
     "iopub.status.idle": "2022-10-20T21:38:22.714914Z",
     "shell.execute_reply": "2022-10-20T21:38:22.713513Z",
     "shell.execute_reply.started": "2022-10-20T21:38:22.703585Z"
    }
   },
   "outputs": [
    {
     "data": {
      "text/plain": [
       "13"
      ]
     },
     "execution_count": 37,
     "metadata": {},
     "output_type": "execute_result"
    }
   ],
   "source": [
    "len(features_categorical_data)"
   ]
  },
  {
   "cell_type": "code",
   "execution_count": 38,
   "metadata": {
    "execution": {
     "iopub.execute_input": "2022-10-20T21:38:22.716600Z",
     "iopub.status.busy": "2022-10-20T21:38:22.716175Z",
     "iopub.status.idle": "2022-10-20T21:38:22.733822Z",
     "shell.execute_reply": "2022-10-20T21:38:22.732584Z",
     "shell.execute_reply.started": "2022-10-20T21:38:22.716565Z"
    }
   },
   "outputs": [
    {
     "data": {
      "text/html": [
       "<div>\n",
       "<style scoped>\n",
       "    .dataframe tbody tr th:only-of-type {\n",
       "        vertical-align: middle;\n",
       "    }\n",
       "\n",
       "    .dataframe tbody tr th {\n",
       "        vertical-align: top;\n",
       "    }\n",
       "\n",
       "    .dataframe thead th {\n",
       "        text-align: right;\n",
       "    }\n",
       "</style>\n",
       "<table border=\"1\" class=\"dataframe\">\n",
       "  <thead>\n",
       "    <tr style=\"text-align: right;\">\n",
       "      <th></th>\n",
       "      <th>0</th>\n",
       "    </tr>\n",
       "  </thead>\n",
       "  <tbody>\n",
       "    <tr>\n",
       "      <th>0</th>\n",
       "      <td>1</td>\n",
       "    </tr>\n",
       "    <tr>\n",
       "      <th>1</th>\n",
       "      <td>1</td>\n",
       "    </tr>\n",
       "    <tr>\n",
       "      <th>2</th>\n",
       "      <td>0</td>\n",
       "    </tr>\n",
       "    <tr>\n",
       "      <th>3</th>\n",
       "      <td>0</td>\n",
       "    </tr>\n",
       "    <tr>\n",
       "      <th>4</th>\n",
       "      <td>1</td>\n",
       "    </tr>\n",
       "    <tr>\n",
       "      <th>...</th>\n",
       "      <td>...</td>\n",
       "    </tr>\n",
       "    <tr>\n",
       "      <th>403582</th>\n",
       "      <td>1</td>\n",
       "    </tr>\n",
       "    <tr>\n",
       "      <th>403583</th>\n",
       "      <td>1</td>\n",
       "    </tr>\n",
       "    <tr>\n",
       "      <th>403584</th>\n",
       "      <td>0</td>\n",
       "    </tr>\n",
       "    <tr>\n",
       "      <th>403585</th>\n",
       "      <td>1</td>\n",
       "    </tr>\n",
       "    <tr>\n",
       "      <th>403586</th>\n",
       "      <td>1</td>\n",
       "    </tr>\n",
       "  </tbody>\n",
       "</table>\n",
       "<p>403587 rows × 1 columns</p>\n",
       "</div>"
      ],
      "text/plain": [
       "        0\n",
       "0       1\n",
       "1       1\n",
       "2       0\n",
       "3       0\n",
       "4       1\n",
       "...    ..\n",
       "403582  1\n",
       "403583  1\n",
       "403584  0\n",
       "403585  1\n",
       "403586  1\n",
       "\n",
       "[403587 rows x 1 columns]"
      ]
     },
     "execution_count": 38,
     "metadata": {},
     "output_type": "execute_result"
    }
   ],
   "source": [
    "booleen_enc"
   ]
  },
  {
   "cell_type": "code",
   "execution_count": 39,
   "metadata": {
    "execution": {
     "iopub.execute_input": "2022-10-20T21:38:22.735485Z",
     "iopub.status.busy": "2022-10-20T21:38:22.735092Z",
     "iopub.status.idle": "2022-10-20T21:38:22.881740Z",
     "shell.execute_reply": "2022-10-20T21:38:22.878990Z",
     "shell.execute_reply.started": "2022-10-20T21:38:22.735449Z"
    }
   },
   "outputs": [
    {
     "ename": "ValueError",
     "evalue": "Length mismatch: Expected axis has 1 elements, new values have 13 elements",
     "output_type": "error",
     "traceback": [
      "\u001b[0;31m---------------------------------------------------------------------------\u001b[0m",
      "\u001b[0;31mValueError\u001b[0m                                Traceback (most recent call last)",
      "\u001b[0;32m/tmp/ipykernel_17/3678488367.py\u001b[0m in \u001b[0;36m<module>\u001b[0;34m\u001b[0m\n\u001b[0;32m----> 1\u001b[0;31m \u001b[0mcategorical_enc\u001b[0m\u001b[0;34m.\u001b[0m\u001b[0mcolumns\u001b[0m\u001b[0;34m=\u001b[0m \u001b[0mfeatures_categorical_data\u001b[0m\u001b[0;34m\u001b[0m\u001b[0;34m\u001b[0m\u001b[0m\n\u001b[0m\u001b[1;32m      2\u001b[0m \u001b[0mbooleen_enc\u001b[0m\u001b[0;34m.\u001b[0m\u001b[0mcolumns\u001b[0m\u001b[0;34m=\u001b[0m \u001b[0mfeatures_booleen_data\u001b[0m\u001b[0;34m\u001b[0m\u001b[0;34m\u001b[0m\u001b[0m\n",
      "\u001b[0;32m/opt/conda/lib/python3.7/site-packages/pandas/core/generic.py\u001b[0m in \u001b[0;36m__setattr__\u001b[0;34m(self, name, value)\u001b[0m\n\u001b[1;32m   5498\u001b[0m         \u001b[0;32mtry\u001b[0m\u001b[0;34m:\u001b[0m\u001b[0;34m\u001b[0m\u001b[0;34m\u001b[0m\u001b[0m\n\u001b[1;32m   5499\u001b[0m             \u001b[0mobject\u001b[0m\u001b[0;34m.\u001b[0m\u001b[0m__getattribute__\u001b[0m\u001b[0;34m(\u001b[0m\u001b[0mself\u001b[0m\u001b[0;34m,\u001b[0m \u001b[0mname\u001b[0m\u001b[0;34m)\u001b[0m\u001b[0;34m\u001b[0m\u001b[0;34m\u001b[0m\u001b[0m\n\u001b[0;32m-> 5500\u001b[0;31m             \u001b[0;32mreturn\u001b[0m \u001b[0mobject\u001b[0m\u001b[0;34m.\u001b[0m\u001b[0m__setattr__\u001b[0m\u001b[0;34m(\u001b[0m\u001b[0mself\u001b[0m\u001b[0;34m,\u001b[0m \u001b[0mname\u001b[0m\u001b[0;34m,\u001b[0m \u001b[0mvalue\u001b[0m\u001b[0;34m)\u001b[0m\u001b[0;34m\u001b[0m\u001b[0;34m\u001b[0m\u001b[0m\n\u001b[0m\u001b[1;32m   5501\u001b[0m         \u001b[0;32mexcept\u001b[0m \u001b[0mAttributeError\u001b[0m\u001b[0;34m:\u001b[0m\u001b[0;34m\u001b[0m\u001b[0;34m\u001b[0m\u001b[0m\n\u001b[1;32m   5502\u001b[0m             \u001b[0;32mpass\u001b[0m\u001b[0;34m\u001b[0m\u001b[0;34m\u001b[0m\u001b[0m\n",
      "\u001b[0;32m/opt/conda/lib/python3.7/site-packages/pandas/_libs/properties.pyx\u001b[0m in \u001b[0;36mpandas._libs.properties.AxisProperty.__set__\u001b[0;34m()\u001b[0m\n",
      "\u001b[0;32m/opt/conda/lib/python3.7/site-packages/pandas/core/generic.py\u001b[0m in \u001b[0;36m_set_axis\u001b[0;34m(self, axis, labels)\u001b[0m\n\u001b[1;32m    764\u001b[0m     \u001b[0;32mdef\u001b[0m \u001b[0m_set_axis\u001b[0m\u001b[0;34m(\u001b[0m\u001b[0mself\u001b[0m\u001b[0;34m,\u001b[0m \u001b[0maxis\u001b[0m\u001b[0;34m:\u001b[0m \u001b[0mint\u001b[0m\u001b[0;34m,\u001b[0m \u001b[0mlabels\u001b[0m\u001b[0;34m:\u001b[0m \u001b[0mIndex\u001b[0m\u001b[0;34m)\u001b[0m \u001b[0;34m->\u001b[0m \u001b[0;32mNone\u001b[0m\u001b[0;34m:\u001b[0m\u001b[0;34m\u001b[0m\u001b[0;34m\u001b[0m\u001b[0m\n\u001b[1;32m    765\u001b[0m         \u001b[0mlabels\u001b[0m \u001b[0;34m=\u001b[0m \u001b[0mensure_index\u001b[0m\u001b[0;34m(\u001b[0m\u001b[0mlabels\u001b[0m\u001b[0;34m)\u001b[0m\u001b[0;34m\u001b[0m\u001b[0;34m\u001b[0m\u001b[0m\n\u001b[0;32m--> 766\u001b[0;31m         \u001b[0mself\u001b[0m\u001b[0;34m.\u001b[0m\u001b[0m_mgr\u001b[0m\u001b[0;34m.\u001b[0m\u001b[0mset_axis\u001b[0m\u001b[0;34m(\u001b[0m\u001b[0maxis\u001b[0m\u001b[0;34m,\u001b[0m \u001b[0mlabels\u001b[0m\u001b[0;34m)\u001b[0m\u001b[0;34m\u001b[0m\u001b[0;34m\u001b[0m\u001b[0m\n\u001b[0m\u001b[1;32m    767\u001b[0m         \u001b[0mself\u001b[0m\u001b[0;34m.\u001b[0m\u001b[0m_clear_item_cache\u001b[0m\u001b[0;34m(\u001b[0m\u001b[0;34m)\u001b[0m\u001b[0;34m\u001b[0m\u001b[0;34m\u001b[0m\u001b[0m\n\u001b[1;32m    768\u001b[0m \u001b[0;34m\u001b[0m\u001b[0m\n",
      "\u001b[0;32m/opt/conda/lib/python3.7/site-packages/pandas/core/internals/managers.py\u001b[0m in \u001b[0;36mset_axis\u001b[0;34m(self, axis, new_labels)\u001b[0m\n\u001b[1;32m    214\u001b[0m     \u001b[0;32mdef\u001b[0m \u001b[0mset_axis\u001b[0m\u001b[0;34m(\u001b[0m\u001b[0mself\u001b[0m\u001b[0;34m,\u001b[0m \u001b[0maxis\u001b[0m\u001b[0;34m:\u001b[0m \u001b[0mint\u001b[0m\u001b[0;34m,\u001b[0m \u001b[0mnew_labels\u001b[0m\u001b[0;34m:\u001b[0m \u001b[0mIndex\u001b[0m\u001b[0;34m)\u001b[0m \u001b[0;34m->\u001b[0m \u001b[0;32mNone\u001b[0m\u001b[0;34m:\u001b[0m\u001b[0;34m\u001b[0m\u001b[0;34m\u001b[0m\u001b[0m\n\u001b[1;32m    215\u001b[0m         \u001b[0;31m# Caller is responsible for ensuring we have an Index object.\u001b[0m\u001b[0;34m\u001b[0m\u001b[0;34m\u001b[0m\u001b[0;34m\u001b[0m\u001b[0m\n\u001b[0;32m--> 216\u001b[0;31m         \u001b[0mself\u001b[0m\u001b[0;34m.\u001b[0m\u001b[0m_validate_set_axis\u001b[0m\u001b[0;34m(\u001b[0m\u001b[0maxis\u001b[0m\u001b[0;34m,\u001b[0m \u001b[0mnew_labels\u001b[0m\u001b[0;34m)\u001b[0m\u001b[0;34m\u001b[0m\u001b[0;34m\u001b[0m\u001b[0m\n\u001b[0m\u001b[1;32m    217\u001b[0m         \u001b[0mself\u001b[0m\u001b[0;34m.\u001b[0m\u001b[0maxes\u001b[0m\u001b[0;34m[\u001b[0m\u001b[0maxis\u001b[0m\u001b[0;34m]\u001b[0m \u001b[0;34m=\u001b[0m \u001b[0mnew_labels\u001b[0m\u001b[0;34m\u001b[0m\u001b[0;34m\u001b[0m\u001b[0m\n\u001b[1;32m    218\u001b[0m \u001b[0;34m\u001b[0m\u001b[0m\n",
      "\u001b[0;32m/opt/conda/lib/python3.7/site-packages/pandas/core/internals/base.py\u001b[0m in \u001b[0;36m_validate_set_axis\u001b[0;34m(self, axis, new_labels)\u001b[0m\n\u001b[1;32m     56\u001b[0m         \u001b[0;32melif\u001b[0m \u001b[0mnew_len\u001b[0m \u001b[0;34m!=\u001b[0m \u001b[0mold_len\u001b[0m\u001b[0;34m:\u001b[0m\u001b[0;34m\u001b[0m\u001b[0;34m\u001b[0m\u001b[0m\n\u001b[1;32m     57\u001b[0m             raise ValueError(\n\u001b[0;32m---> 58\u001b[0;31m                 \u001b[0;34mf\"Length mismatch: Expected axis has {old_len} elements, new \"\u001b[0m\u001b[0;34m\u001b[0m\u001b[0;34m\u001b[0m\u001b[0m\n\u001b[0m\u001b[1;32m     59\u001b[0m                 \u001b[0;34mf\"values have {new_len} elements\"\u001b[0m\u001b[0;34m\u001b[0m\u001b[0;34m\u001b[0m\u001b[0m\n\u001b[1;32m     60\u001b[0m             )\n",
      "\u001b[0;31mValueError\u001b[0m: Length mismatch: Expected axis has 1 elements, new values have 13 elements"
     ]
    }
   ],
   "source": [
    "categorical_enc.columns = features_categorical_data \n",
    "booleen_enc.columns = features_booleen_data"
   ]
  },
  {
   "cell_type": "code",
   "execution_count": null,
   "metadata": {
    "execution": {
     "iopub.status.busy": "2022-10-20T21:38:22.882749Z",
     "iopub.status.idle": "2022-10-20T21:38:22.883678Z",
     "shell.execute_reply": "2022-10-20T21:38:22.883410Z",
     "shell.execute_reply.started": "2022-10-20T21:38:22.883378Z"
    }
   },
   "outputs": [],
   "source": [
    "object_data = pd.concat([categorical_enc,booleen_enc], axis=1)"
   ]
  },
  {
   "cell_type": "code",
   "execution_count": null,
   "metadata": {
    "execution": {
     "iopub.status.busy": "2022-10-20T21:38:22.885820Z",
     "iopub.status.idle": "2022-10-20T21:38:22.886423Z",
     "shell.execute_reply": "2022-10-20T21:38:22.886155Z",
     "shell.execute_reply.started": "2022-10-20T21:38:22.886110Z"
    }
   },
   "outputs": [],
   "source": [
    "object_data"
   ]
  },
  {
   "cell_type": "markdown",
   "metadata": {},
   "source": [
    "### Exploration for Numerical data"
   ]
  },
  {
   "cell_type": "code",
   "execution_count": null,
   "metadata": {
    "execution": {
     "iopub.status.busy": "2022-10-20T21:38:22.888279Z",
     "iopub.status.idle": "2022-10-20T21:38:22.888863Z",
     "shell.execute_reply": "2022-10-20T21:38:22.888587Z",
     "shell.execute_reply.started": "2022-10-20T21:38:22.888561Z"
    }
   },
   "outputs": [],
   "source": [
    "from sklearn.impute import SimpleImputer"
   ]
  },
  {
   "cell_type": "code",
   "execution_count": null,
   "metadata": {
    "execution": {
     "iopub.status.busy": "2022-10-20T21:38:22.890491Z",
     "iopub.status.idle": "2022-10-20T21:38:22.890885Z",
     "shell.execute_reply": "2022-10-20T21:38:22.890716Z",
     "shell.execute_reply.started": "2022-10-20T21:38:22.890699Z"
    }
   },
   "outputs": [],
   "source": [
    "Bondora1"
   ]
  },
  {
   "cell_type": "markdown",
   "metadata": {},
   "source": [
    "### Fill the object data that have less then 90% null"
   ]
  },
  {
   "cell_type": "code",
   "execution_count": null,
   "metadata": {
    "execution": {
     "iopub.status.busy": "2022-10-20T21:38:22.892274Z",
     "iopub.status.idle": "2022-10-20T21:38:22.892733Z",
     "shell.execute_reply": "2022-10-20T21:38:22.892566Z",
     "shell.execute_reply.started": "2022-10-20T21:38:22.892547Z"
    }
   },
   "outputs": [],
   "source": [
    "names_num = Bondora1.columns\n",
    "imp_median = SimpleImputer(missing_values=np.nan, strategy='median') \n",
    "imp_median.fit(np.array(Bondora1))\n",
    "imp_data= imp_median.transform(Bondora1)\n",
    "Bondora1= pd.DataFrame(imp_data)\n",
    "Bondora1.columns= names_num"
   ]
  },
  {
   "cell_type": "code",
   "execution_count": null,
   "metadata": {
    "execution": {
     "iopub.status.busy": "2022-10-20T21:38:22.894275Z",
     "iopub.status.idle": "2022-10-20T21:38:22.894966Z",
     "shell.execute_reply": "2022-10-20T21:38:22.894785Z",
     "shell.execute_reply.started": "2022-10-20T21:38:22.894764Z"
    }
   },
   "outputs": [],
   "source": [
    "Bondora1"
   ]
  },
  {
   "cell_type": "code",
   "execution_count": null,
   "metadata": {
    "execution": {
     "iopub.status.busy": "2022-10-20T21:38:22.895986Z",
     "iopub.status.idle": "2022-10-20T21:38:22.896392Z",
     "shell.execute_reply": "2022-10-20T21:38:22.896202Z",
     "shell.execute_reply.started": "2022-10-20T21:38:22.896184Z"
    }
   },
   "outputs": [],
   "source": [
    "Bondora1.hist(figsize=(20,20))"
   ]
  },
  {
   "cell_type": "code",
   "execution_count": 40,
   "metadata": {
    "execution": {
     "iopub.execute_input": "2022-10-20T21:38:22.915974Z",
     "iopub.status.busy": "2022-10-20T21:38:22.915559Z",
     "iopub.status.idle": "2022-10-20T21:38:23.153299Z",
     "shell.execute_reply": "2022-10-20T21:38:23.152066Z",
     "shell.execute_reply.started": "2022-10-20T21:38:22.915940Z"
    }
   },
   "outputs": [
    {
     "data": {
      "text/html": [
       "<div>\n",
       "<style scoped>\n",
       "    .dataframe tbody tr th:only-of-type {\n",
       "        vertical-align: middle;\n",
       "    }\n",
       "\n",
       "    .dataframe tbody tr th {\n",
       "        vertical-align: top;\n",
       "    }\n",
       "\n",
       "    .dataframe thead th {\n",
       "        text-align: right;\n",
       "    }\n",
       "</style>\n",
       "<table border=\"1\" class=\"dataframe\">\n",
       "  <thead>\n",
       "    <tr style=\"text-align: right;\">\n",
       "      <th></th>\n",
       "      <th>count</th>\n",
       "      <th>mean</th>\n",
       "      <th>std</th>\n",
       "      <th>min</th>\n",
       "      <th>25%</th>\n",
       "      <th>50%</th>\n",
       "      <th>75%</th>\n",
       "      <th>max</th>\n",
       "    </tr>\n",
       "  </thead>\n",
       "  <tbody>\n",
       "    <tr>\n",
       "      <th>BidsPortfolioManager</th>\n",
       "      <td>134529.0</td>\n",
       "      <td>966.452876</td>\n",
       "      <td>1355.686016</td>\n",
       "      <td>0.0000</td>\n",
       "      <td>155.00</td>\n",
       "      <td>465.0000</td>\n",
       "      <td>1218.00</td>\n",
       "      <td>10625.00</td>\n",
       "    </tr>\n",
       "    <tr>\n",
       "      <th>BidsApi</th>\n",
       "      <td>134529.0</td>\n",
       "      <td>29.111664</td>\n",
       "      <td>150.159148</td>\n",
       "      <td>0.0000</td>\n",
       "      <td>0.00</td>\n",
       "      <td>0.0000</td>\n",
       "      <td>5.00</td>\n",
       "      <td>7570.00</td>\n",
       "    </tr>\n",
       "    <tr>\n",
       "      <th>BidsManual</th>\n",
       "      <td>134529.0</td>\n",
       "      <td>559.332590</td>\n",
       "      <td>750.360512</td>\n",
       "      <td>0.0000</td>\n",
       "      <td>96.00</td>\n",
       "      <td>317.0000</td>\n",
       "      <td>729.00</td>\n",
       "      <td>10630.00</td>\n",
       "    </tr>\n",
       "    <tr>\n",
       "      <th>ApplicationSignedHour</th>\n",
       "      <td>134529.0</td>\n",
       "      <td>13.374640</td>\n",
       "      <td>4.992375</td>\n",
       "      <td>0.0000</td>\n",
       "      <td>10.00</td>\n",
       "      <td>13.0000</td>\n",
       "      <td>17.00</td>\n",
       "      <td>23.00</td>\n",
       "    </tr>\n",
       "    <tr>\n",
       "      <th>ApplicationSignedWeekday</th>\n",
       "      <td>134529.0</td>\n",
       "      <td>3.907908</td>\n",
       "      <td>1.726192</td>\n",
       "      <td>1.0000</td>\n",
       "      <td>2.00</td>\n",
       "      <td>4.0000</td>\n",
       "      <td>5.00</td>\n",
       "      <td>7.00</td>\n",
       "    </tr>\n",
       "    <tr>\n",
       "      <th>LanguageCode</th>\n",
       "      <td>134529.0</td>\n",
       "      <td>2.827874</td>\n",
       "      <td>1.959802</td>\n",
       "      <td>1.0000</td>\n",
       "      <td>1.00</td>\n",
       "      <td>3.0000</td>\n",
       "      <td>4.00</td>\n",
       "      <td>22.00</td>\n",
       "    </tr>\n",
       "    <tr>\n",
       "      <th>Age</th>\n",
       "      <td>134529.0</td>\n",
       "      <td>40.819295</td>\n",
       "      <td>12.348693</td>\n",
       "      <td>0.0000</td>\n",
       "      <td>31.00</td>\n",
       "      <td>40.0000</td>\n",
       "      <td>50.00</td>\n",
       "      <td>77.00</td>\n",
       "    </tr>\n",
       "    <tr>\n",
       "      <th>AppliedAmount</th>\n",
       "      <td>134529.0</td>\n",
       "      <td>2727.947540</td>\n",
       "      <td>2374.439168</td>\n",
       "      <td>31.9558</td>\n",
       "      <td>800.00</td>\n",
       "      <td>2125.0000</td>\n",
       "      <td>4145.00</td>\n",
       "      <td>10632.00</td>\n",
       "    </tr>\n",
       "    <tr>\n",
       "      <th>Amount</th>\n",
       "      <td>134529.0</td>\n",
       "      <td>2543.872472</td>\n",
       "      <td>2170.128183</td>\n",
       "      <td>6.3900</td>\n",
       "      <td>744.00</td>\n",
       "      <td>2125.0000</td>\n",
       "      <td>3600.00</td>\n",
       "      <td>10632.00</td>\n",
       "    </tr>\n",
       "    <tr>\n",
       "      <th>Interest</th>\n",
       "      <td>134529.0</td>\n",
       "      <td>35.889583</td>\n",
       "      <td>26.288644</td>\n",
       "      <td>3.0000</td>\n",
       "      <td>20.00</td>\n",
       "      <td>30.9300</td>\n",
       "      <td>40.40</td>\n",
       "      <td>264.31</td>\n",
       "    </tr>\n",
       "    <tr>\n",
       "      <th>LoanDuration</th>\n",
       "      <td>134529.0</td>\n",
       "      <td>46.151573</td>\n",
       "      <td>15.202688</td>\n",
       "      <td>1.0000</td>\n",
       "      <td>36.00</td>\n",
       "      <td>48.0000</td>\n",
       "      <td>60.00</td>\n",
       "      <td>60.00</td>\n",
       "    </tr>\n",
       "    <tr>\n",
       "      <th>UseOfLoan</th>\n",
       "      <td>134529.0</td>\n",
       "      <td>0.343026</td>\n",
       "      <td>3.311925</td>\n",
       "      <td>-1.0000</td>\n",
       "      <td>-1.00</td>\n",
       "      <td>-1.0000</td>\n",
       "      <td>0.00</td>\n",
       "      <td>110.00</td>\n",
       "    </tr>\n",
       "    <tr>\n",
       "      <th>IncomeFromPrincipalEmployer</th>\n",
       "      <td>134529.0</td>\n",
       "      <td>437.143384</td>\n",
       "      <td>1786.569939</td>\n",
       "      <td>0.0000</td>\n",
       "      <td>0.00</td>\n",
       "      <td>0.0000</td>\n",
       "      <td>326.00</td>\n",
       "      <td>228400.00</td>\n",
       "    </tr>\n",
       "    <tr>\n",
       "      <th>IncomeFromPension</th>\n",
       "      <td>134529.0</td>\n",
       "      <td>18.802698</td>\n",
       "      <td>150.849487</td>\n",
       "      <td>0.0000</td>\n",
       "      <td>0.00</td>\n",
       "      <td>0.0000</td>\n",
       "      <td>0.00</td>\n",
       "      <td>5038.00</td>\n",
       "    </tr>\n",
       "    <tr>\n",
       "      <th>IncomeFromFamilyAllowance</th>\n",
       "      <td>134529.0</td>\n",
       "      <td>5.682848</td>\n",
       "      <td>38.385899</td>\n",
       "      <td>0.0000</td>\n",
       "      <td>0.00</td>\n",
       "      <td>0.0000</td>\n",
       "      <td>0.00</td>\n",
       "      <td>2006.00</td>\n",
       "    </tr>\n",
       "    <tr>\n",
       "      <th>IncomeFromSocialWelfare</th>\n",
       "      <td>134529.0</td>\n",
       "      <td>2.390005</td>\n",
       "      <td>36.791193</td>\n",
       "      <td>0.0000</td>\n",
       "      <td>0.00</td>\n",
       "      <td>0.0000</td>\n",
       "      <td>0.00</td>\n",
       "      <td>4551.00</td>\n",
       "    </tr>\n",
       "    <tr>\n",
       "      <th>IncomeFromLeavePay</th>\n",
       "      <td>134529.0</td>\n",
       "      <td>3.253239</td>\n",
       "      <td>77.523767</td>\n",
       "      <td>0.0000</td>\n",
       "      <td>0.00</td>\n",
       "      <td>0.0000</td>\n",
       "      <td>0.00</td>\n",
       "      <td>21300.00</td>\n",
       "    </tr>\n",
       "    <tr>\n",
       "      <th>IncomeFromChildSupport</th>\n",
       "      <td>134529.0</td>\n",
       "      <td>2.359142</td>\n",
       "      <td>28.459953</td>\n",
       "      <td>0.0000</td>\n",
       "      <td>0.00</td>\n",
       "      <td>0.0000</td>\n",
       "      <td>0.00</td>\n",
       "      <td>2500.00</td>\n",
       "    </tr>\n",
       "    <tr>\n",
       "      <th>IncomeOther</th>\n",
       "      <td>134529.0</td>\n",
       "      <td>43.112825</td>\n",
       "      <td>459.081430</td>\n",
       "      <td>0.0000</td>\n",
       "      <td>0.00</td>\n",
       "      <td>0.0000</td>\n",
       "      <td>0.00</td>\n",
       "      <td>50000.00</td>\n",
       "    </tr>\n",
       "    <tr>\n",
       "      <th>IncomeTotal</th>\n",
       "      <td>134529.0</td>\n",
       "      <td>1724.150015</td>\n",
       "      <td>4970.165757</td>\n",
       "      <td>0.0000</td>\n",
       "      <td>857.00</td>\n",
       "      <td>1250.0000</td>\n",
       "      <td>1900.00</td>\n",
       "      <td>1012019.00</td>\n",
       "    </tr>\n",
       "    <tr>\n",
       "      <th>ExistingLiabilities</th>\n",
       "      <td>134529.0</td>\n",
       "      <td>3.181797</td>\n",
       "      <td>3.424242</td>\n",
       "      <td>0.0000</td>\n",
       "      <td>1.00</td>\n",
       "      <td>2.0000</td>\n",
       "      <td>5.00</td>\n",
       "      <td>40.00</td>\n",
       "    </tr>\n",
       "    <tr>\n",
       "      <th>LiabilitiesTotal</th>\n",
       "      <td>134529.0</td>\n",
       "      <td>562.027010</td>\n",
       "      <td>33831.634630</td>\n",
       "      <td>0.0000</td>\n",
       "      <td>73.54</td>\n",
       "      <td>316.3800</td>\n",
       "      <td>620.58</td>\n",
       "      <td>12400000.00</td>\n",
       "    </tr>\n",
       "    <tr>\n",
       "      <th>RefinanceLiabilities</th>\n",
       "      <td>134529.0</td>\n",
       "      <td>0.187313</td>\n",
       "      <td>0.896455</td>\n",
       "      <td>0.0000</td>\n",
       "      <td>0.00</td>\n",
       "      <td>0.0000</td>\n",
       "      <td>0.00</td>\n",
       "      <td>23.00</td>\n",
       "    </tr>\n",
       "    <tr>\n",
       "      <th>MonthlyPaymentDay</th>\n",
       "      <td>134529.0</td>\n",
       "      <td>11.143188</td>\n",
       "      <td>7.044104</td>\n",
       "      <td>0.0000</td>\n",
       "      <td>5.00</td>\n",
       "      <td>10.0000</td>\n",
       "      <td>15.00</td>\n",
       "      <td>28.00</td>\n",
       "    </tr>\n",
       "    <tr>\n",
       "      <th>PrincipalPaymentsMade</th>\n",
       "      <td>134529.0</td>\n",
       "      <td>761.476162</td>\n",
       "      <td>1371.557801</td>\n",
       "      <td>0.0000</td>\n",
       "      <td>50.87</td>\n",
       "      <td>208.1000</td>\n",
       "      <td>766.41</td>\n",
       "      <td>10632.00</td>\n",
       "    </tr>\n",
       "    <tr>\n",
       "      <th>InterestAndPenaltyPaymentsMade</th>\n",
       "      <td>134529.0</td>\n",
       "      <td>488.397102</td>\n",
       "      <td>827.805133</td>\n",
       "      <td>0.0000</td>\n",
       "      <td>44.93</td>\n",
       "      <td>181.2100</td>\n",
       "      <td>568.53</td>\n",
       "      <td>16873.00</td>\n",
       "    </tr>\n",
       "    <tr>\n",
       "      <th>PrincipalBalance</th>\n",
       "      <td>134529.0</td>\n",
       "      <td>1769.281104</td>\n",
       "      <td>2030.546309</td>\n",
       "      <td>-34.2000</td>\n",
       "      <td>212.82</td>\n",
       "      <td>1061.9900</td>\n",
       "      <td>2636.33</td>\n",
       "      <td>10632.00</td>\n",
       "    </tr>\n",
       "    <tr>\n",
       "      <th>InterestAndPenaltyBalance</th>\n",
       "      <td>134529.0</td>\n",
       "      <td>701.567107</td>\n",
       "      <td>2514.595572</td>\n",
       "      <td>-2.6600</td>\n",
       "      <td>0.00</td>\n",
       "      <td>0.0000</td>\n",
       "      <td>202.90</td>\n",
       "      <td>64494.77</td>\n",
       "    </tr>\n",
       "    <tr>\n",
       "      <th>NoOfPreviousLoansBeforeLoan</th>\n",
       "      <td>134529.0</td>\n",
       "      <td>1.487620</td>\n",
       "      <td>2.396148</td>\n",
       "      <td>0.0000</td>\n",
       "      <td>0.00</td>\n",
       "      <td>1.0000</td>\n",
       "      <td>2.00</td>\n",
       "      <td>25.00</td>\n",
       "    </tr>\n",
       "    <tr>\n",
       "      <th>AmountOfPreviousLoansBeforeLoan</th>\n",
       "      <td>134529.0</td>\n",
       "      <td>2868.652401</td>\n",
       "      <td>4507.046575</td>\n",
       "      <td>0.0000</td>\n",
       "      <td>0.00</td>\n",
       "      <td>396.3541</td>\n",
       "      <td>4250.00</td>\n",
       "      <td>53762.00</td>\n",
       "    </tr>\n",
       "    <tr>\n",
       "      <th>PreviousEarlyRepaymentsCountBeforeLoan</th>\n",
       "      <td>134529.0</td>\n",
       "      <td>0.069903</td>\n",
       "      <td>0.359461</td>\n",
       "      <td>0.0000</td>\n",
       "      <td>0.00</td>\n",
       "      <td>0.0000</td>\n",
       "      <td>0.00</td>\n",
       "      <td>11.00</td>\n",
       "    </tr>\n",
       "  </tbody>\n",
       "</table>\n",
       "</div>"
      ],
      "text/plain": [
       "                                           count         mean           std  \\\n",
       "BidsPortfolioManager                    134529.0   966.452876   1355.686016   \n",
       "BidsApi                                 134529.0    29.111664    150.159148   \n",
       "BidsManual                              134529.0   559.332590    750.360512   \n",
       "ApplicationSignedHour                   134529.0    13.374640      4.992375   \n",
       "ApplicationSignedWeekday                134529.0     3.907908      1.726192   \n",
       "LanguageCode                            134529.0     2.827874      1.959802   \n",
       "Age                                     134529.0    40.819295     12.348693   \n",
       "AppliedAmount                           134529.0  2727.947540   2374.439168   \n",
       "Amount                                  134529.0  2543.872472   2170.128183   \n",
       "Interest                                134529.0    35.889583     26.288644   \n",
       "LoanDuration                            134529.0    46.151573     15.202688   \n",
       "UseOfLoan                               134529.0     0.343026      3.311925   \n",
       "IncomeFromPrincipalEmployer             134529.0   437.143384   1786.569939   \n",
       "IncomeFromPension                       134529.0    18.802698    150.849487   \n",
       "IncomeFromFamilyAllowance               134529.0     5.682848     38.385899   \n",
       "IncomeFromSocialWelfare                 134529.0     2.390005     36.791193   \n",
       "IncomeFromLeavePay                      134529.0     3.253239     77.523767   \n",
       "IncomeFromChildSupport                  134529.0     2.359142     28.459953   \n",
       "IncomeOther                             134529.0    43.112825    459.081430   \n",
       "IncomeTotal                             134529.0  1724.150015   4970.165757   \n",
       "ExistingLiabilities                     134529.0     3.181797      3.424242   \n",
       "LiabilitiesTotal                        134529.0   562.027010  33831.634630   \n",
       "RefinanceLiabilities                    134529.0     0.187313      0.896455   \n",
       "MonthlyPaymentDay                       134529.0    11.143188      7.044104   \n",
       "PrincipalPaymentsMade                   134529.0   761.476162   1371.557801   \n",
       "InterestAndPenaltyPaymentsMade          134529.0   488.397102    827.805133   \n",
       "PrincipalBalance                        134529.0  1769.281104   2030.546309   \n",
       "InterestAndPenaltyBalance               134529.0   701.567107   2514.595572   \n",
       "NoOfPreviousLoansBeforeLoan             134529.0     1.487620      2.396148   \n",
       "AmountOfPreviousLoansBeforeLoan         134529.0  2868.652401   4507.046575   \n",
       "PreviousEarlyRepaymentsCountBeforeLoan  134529.0     0.069903      0.359461   \n",
       "\n",
       "                                            min     25%        50%      75%  \\\n",
       "BidsPortfolioManager                     0.0000  155.00   465.0000  1218.00   \n",
       "BidsApi                                  0.0000    0.00     0.0000     5.00   \n",
       "BidsManual                               0.0000   96.00   317.0000   729.00   \n",
       "ApplicationSignedHour                    0.0000   10.00    13.0000    17.00   \n",
       "ApplicationSignedWeekday                 1.0000    2.00     4.0000     5.00   \n",
       "LanguageCode                             1.0000    1.00     3.0000     4.00   \n",
       "Age                                      0.0000   31.00    40.0000    50.00   \n",
       "AppliedAmount                           31.9558  800.00  2125.0000  4145.00   \n",
       "Amount                                   6.3900  744.00  2125.0000  3600.00   \n",
       "Interest                                 3.0000   20.00    30.9300    40.40   \n",
       "LoanDuration                             1.0000   36.00    48.0000    60.00   \n",
       "UseOfLoan                               -1.0000   -1.00    -1.0000     0.00   \n",
       "IncomeFromPrincipalEmployer              0.0000    0.00     0.0000   326.00   \n",
       "IncomeFromPension                        0.0000    0.00     0.0000     0.00   \n",
       "IncomeFromFamilyAllowance                0.0000    0.00     0.0000     0.00   \n",
       "IncomeFromSocialWelfare                  0.0000    0.00     0.0000     0.00   \n",
       "IncomeFromLeavePay                       0.0000    0.00     0.0000     0.00   \n",
       "IncomeFromChildSupport                   0.0000    0.00     0.0000     0.00   \n",
       "IncomeOther                              0.0000    0.00     0.0000     0.00   \n",
       "IncomeTotal                              0.0000  857.00  1250.0000  1900.00   \n",
       "ExistingLiabilities                      0.0000    1.00     2.0000     5.00   \n",
       "LiabilitiesTotal                         0.0000   73.54   316.3800   620.58   \n",
       "RefinanceLiabilities                     0.0000    0.00     0.0000     0.00   \n",
       "MonthlyPaymentDay                        0.0000    5.00    10.0000    15.00   \n",
       "PrincipalPaymentsMade                    0.0000   50.87   208.1000   766.41   \n",
       "InterestAndPenaltyPaymentsMade           0.0000   44.93   181.2100   568.53   \n",
       "PrincipalBalance                       -34.2000  212.82  1061.9900  2636.33   \n",
       "InterestAndPenaltyBalance               -2.6600    0.00     0.0000   202.90   \n",
       "NoOfPreviousLoansBeforeLoan              0.0000    0.00     1.0000     2.00   \n",
       "AmountOfPreviousLoansBeforeLoan          0.0000    0.00   396.3541  4250.00   \n",
       "PreviousEarlyRepaymentsCountBeforeLoan   0.0000    0.00     0.0000     0.00   \n",
       "\n",
       "                                                max  \n",
       "BidsPortfolioManager                       10625.00  \n",
       "BidsApi                                     7570.00  \n",
       "BidsManual                                 10630.00  \n",
       "ApplicationSignedHour                         23.00  \n",
       "ApplicationSignedWeekday                       7.00  \n",
       "LanguageCode                                  22.00  \n",
       "Age                                           77.00  \n",
       "AppliedAmount                              10632.00  \n",
       "Amount                                     10632.00  \n",
       "Interest                                     264.31  \n",
       "LoanDuration                                  60.00  \n",
       "UseOfLoan                                    110.00  \n",
       "IncomeFromPrincipalEmployer               228400.00  \n",
       "IncomeFromPension                           5038.00  \n",
       "IncomeFromFamilyAllowance                   2006.00  \n",
       "IncomeFromSocialWelfare                     4551.00  \n",
       "IncomeFromLeavePay                         21300.00  \n",
       "IncomeFromChildSupport                      2500.00  \n",
       "IncomeOther                                50000.00  \n",
       "IncomeTotal                              1012019.00  \n",
       "ExistingLiabilities                           40.00  \n",
       "LiabilitiesTotal                        12400000.00  \n",
       "RefinanceLiabilities                          23.00  \n",
       "MonthlyPaymentDay                             28.00  \n",
       "PrincipalPaymentsMade                      10632.00  \n",
       "InterestAndPenaltyPaymentsMade             16873.00  \n",
       "PrincipalBalance                           10632.00  \n",
       "InterestAndPenaltyBalance                  64494.77  \n",
       "NoOfPreviousLoansBeforeLoan                   25.00  \n",
       "AmountOfPreviousLoansBeforeLoan            53762.00  \n",
       "PreviousEarlyRepaymentsCountBeforeLoan        11.00  "
      ]
     },
     "execution_count": 40,
     "metadata": {},
     "output_type": "execute_result"
    }
   ],
   "source": [
    "Bondora1.describe().transpose()"
   ]
  },
  {
   "cell_type": "markdown",
   "metadata": {},
   "source": [
    "### Preprocessing for Numerical data"
   ]
  },
  {
   "cell_type": "code",
   "execution_count": 41,
   "metadata": {
    "execution": {
     "iopub.execute_input": "2022-10-20T21:38:23.157578Z",
     "iopub.status.busy": "2022-10-20T21:38:23.155886Z",
     "iopub.status.idle": "2022-10-20T21:38:23.164333Z",
     "shell.execute_reply": "2022-10-20T21:38:23.162871Z",
     "shell.execute_reply.started": "2022-10-20T21:38:23.157526Z"
    }
   },
   "outputs": [],
   "source": [
    "# we'll be using z-score for normalization\n",
    "def z_score_normalizer(X): \n",
    "    m = X.shape[0]\n",
    "    n=1\n",
    "    for i in range(n):\n",
    "        X = (X - X.mean(axis=0))/X.std(axis=0) \n",
    "    return X"
   ]
  },
  {
   "cell_type": "code",
   "execution_count": 43,
   "metadata": {
    "execution": {
     "iopub.execute_input": "2022-10-20T21:38:34.869102Z",
     "iopub.status.busy": "2022-10-20T21:38:34.868732Z",
     "iopub.status.idle": "2022-10-20T21:38:34.940101Z",
     "shell.execute_reply": "2022-10-20T21:38:34.938923Z",
     "shell.execute_reply.started": "2022-10-20T21:38:34.869072Z"
    }
   },
   "outputs": [],
   "source": [
    "Bondora1 = z_score_normalizer(Bondora1)"
   ]
  },
  {
   "cell_type": "code",
   "execution_count": 44,
   "metadata": {
    "execution": {
     "iopub.execute_input": "2022-10-20T21:38:40.738556Z",
     "iopub.status.busy": "2022-10-20T21:38:40.738060Z",
     "iopub.status.idle": "2022-10-20T21:38:40.759535Z",
     "shell.execute_reply": "2022-10-20T21:38:40.757594Z",
     "shell.execute_reply.started": "2022-10-20T21:38:40.738514Z"
    }
   },
   "outputs": [
    {
     "ename": "NameError",
     "evalue": "name 'object_data' is not defined",
     "output_type": "error",
     "traceback": [
      "\u001b[0;31m---------------------------------------------------------------------------\u001b[0m",
      "\u001b[0;31mNameError\u001b[0m                                 Traceback (most recent call last)",
      "\u001b[0;32m/tmp/ipykernel_17/1331014821.py\u001b[0m in \u001b[0;36m<module>\u001b[0;34m\u001b[0m\n\u001b[0;32m----> 1\u001b[0;31m \u001b[0mobject_data\u001b[0m\u001b[0;34m\u001b[0m\u001b[0;34m\u001b[0m\u001b[0m\n\u001b[0m",
      "\u001b[0;31mNameError\u001b[0m: name 'object_data' is not defined"
     ]
    }
   ],
   "source": [
    "object_data"
   ]
  },
  {
   "cell_type": "markdown",
   "metadata": {},
   "source": [
    "### Target Selection"
   ]
  },
  {
   "cell_type": "code",
   "execution_count": null,
   "metadata": {
    "execution": {
     "iopub.status.busy": "2022-10-20T21:38:23.192791Z",
     "iopub.status.idle": "2022-10-20T21:38:23.193264Z",
     "shell.execute_reply": "2022-10-20T21:38:23.193029Z",
     "shell.execute_reply.started": "2022-10-20T21:38:23.193011Z"
    }
   },
   "outputs": [],
   "source": [
    "Y= object_data['Status']\n",
    "object_data = object_data.drop(['Status'],axis=1) \n",
    "Y=encoder_1.inverse_transform(Y)\n",
    "Y= pd.DataFrame(Y, columns=['Status']) \n",
    "Y.Status.unique()"
   ]
  },
  {
   "cell_type": "code",
   "execution_count": null,
   "metadata": {},
   "outputs": [],
   "source": []
  }
 ],
 "metadata": {
  "kernelspec": {
   "display_name": "Python 3 (ipykernel)",
   "language": "python",
   "name": "python3"
  },
  "language_info": {
   "codemirror_mode": {
    "name": "ipython",
    "version": 3
   },
   "file_extension": ".py",
   "mimetype": "text/x-python",
   "name": "python",
   "nbconvert_exporter": "python",
   "pygments_lexer": "ipython3",
   "version": "3.9.7"
  }
 },
 "nbformat": 4,
 "nbformat_minor": 4
}
